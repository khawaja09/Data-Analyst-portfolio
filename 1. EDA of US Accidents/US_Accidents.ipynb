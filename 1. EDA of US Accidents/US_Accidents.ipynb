{
 "cells": [
  {
   "cell_type": "code",
   "execution_count": 1,
   "id": "398f27cc",
   "metadata": {},
   "outputs": [],
   "source": [
    "import numpy as np\n",
    "import pandas as pd\n",
    "import seaborn as sns\n",
    "import os\n",
    "import math as m\n",
    "import matplotlib.pyplot as plt"
   ]
  },
  {
   "cell_type": "markdown",
   "id": "6993d931",
   "metadata": {},
   "source": [
    "# <h1>Data Preparation & Cleaning</h1>"
   ]
  },
  {
   "cell_type": "markdown",
   "id": "7d09f23b",
   "metadata": {},
   "source": [
    "### 1. load the file using pandas\n",
    "### 2. take overview of the columns and data\n",
    "### 3. fix any missing and wrong entries"
   ]
  },
  {
   "cell_type": "code",
   "execution_count": 2,
   "id": "09a216ae",
   "metadata": {},
   "outputs": [
    {
     "ename": "FileNotFoundError",
     "evalue": "[Errno 2] No such file or directory: './US_Accidents.csv'",
     "output_type": "error",
     "traceback": [
      "\u001b[1;31m---------------------------------------------------------------------------\u001b[0m",
      "\u001b[1;31mFileNotFoundError\u001b[0m                         Traceback (most recent call last)",
      "\u001b[1;32m~\\AppData\\Local\\Temp/ipykernel_3100/1851053198.py\u001b[0m in \u001b[0;36m<module>\u001b[1;34m\u001b[0m\n\u001b[0;32m      1\u001b[0m \u001b[1;31m# read the csv file\u001b[0m\u001b[1;33m\u001b[0m\u001b[1;33m\u001b[0m\u001b[1;33m\u001b[0m\u001b[0m\n\u001b[0;32m      2\u001b[0m \u001b[1;33m\u001b[0m\u001b[0m\n\u001b[1;32m----> 3\u001b[1;33m \u001b[0mdf\u001b[0m \u001b[1;33m=\u001b[0m \u001b[0mpd\u001b[0m\u001b[1;33m.\u001b[0m\u001b[0mread_csv\u001b[0m\u001b[1;33m(\u001b[0m\u001b[1;34m'./US_Accidents.csv'\u001b[0m\u001b[1;33m)\u001b[0m\u001b[1;33m\u001b[0m\u001b[1;33m\u001b[0m\u001b[0m\n\u001b[0m",
      "\u001b[1;32mc:\\users\\hhc\\appdata\\local\\programs\\python\\python39\\lib\\site-packages\\pandas\\util\\_decorators.py\u001b[0m in \u001b[0;36mwrapper\u001b[1;34m(*args, **kwargs)\u001b[0m\n\u001b[0;32m    309\u001b[0m                     \u001b[0mstacklevel\u001b[0m\u001b[1;33m=\u001b[0m\u001b[0mstacklevel\u001b[0m\u001b[1;33m,\u001b[0m\u001b[1;33m\u001b[0m\u001b[1;33m\u001b[0m\u001b[0m\n\u001b[0;32m    310\u001b[0m                 )\n\u001b[1;32m--> 311\u001b[1;33m             \u001b[1;32mreturn\u001b[0m \u001b[0mfunc\u001b[0m\u001b[1;33m(\u001b[0m\u001b[1;33m*\u001b[0m\u001b[0margs\u001b[0m\u001b[1;33m,\u001b[0m \u001b[1;33m**\u001b[0m\u001b[0mkwargs\u001b[0m\u001b[1;33m)\u001b[0m\u001b[1;33m\u001b[0m\u001b[1;33m\u001b[0m\u001b[0m\n\u001b[0m\u001b[0;32m    312\u001b[0m \u001b[1;33m\u001b[0m\u001b[0m\n\u001b[0;32m    313\u001b[0m         \u001b[1;32mreturn\u001b[0m \u001b[0mwrapper\u001b[0m\u001b[1;33m\u001b[0m\u001b[1;33m\u001b[0m\u001b[0m\n",
      "\u001b[1;32mc:\\users\\hhc\\appdata\\local\\programs\\python\\python39\\lib\\site-packages\\pandas\\io\\parsers\\readers.py\u001b[0m in \u001b[0;36mread_csv\u001b[1;34m(filepath_or_buffer, sep, delimiter, header, names, index_col, usecols, squeeze, prefix, mangle_dupe_cols, dtype, engine, converters, true_values, false_values, skipinitialspace, skiprows, skipfooter, nrows, na_values, keep_default_na, na_filter, verbose, skip_blank_lines, parse_dates, infer_datetime_format, keep_date_col, date_parser, dayfirst, cache_dates, iterator, chunksize, compression, thousands, decimal, lineterminator, quotechar, quoting, doublequote, escapechar, comment, encoding, encoding_errors, dialect, error_bad_lines, warn_bad_lines, on_bad_lines, delim_whitespace, low_memory, memory_map, float_precision, storage_options)\u001b[0m\n\u001b[0;32m    584\u001b[0m     \u001b[0mkwds\u001b[0m\u001b[1;33m.\u001b[0m\u001b[0mupdate\u001b[0m\u001b[1;33m(\u001b[0m\u001b[0mkwds_defaults\u001b[0m\u001b[1;33m)\u001b[0m\u001b[1;33m\u001b[0m\u001b[1;33m\u001b[0m\u001b[0m\n\u001b[0;32m    585\u001b[0m \u001b[1;33m\u001b[0m\u001b[0m\n\u001b[1;32m--> 586\u001b[1;33m     \u001b[1;32mreturn\u001b[0m \u001b[0m_read\u001b[0m\u001b[1;33m(\u001b[0m\u001b[0mfilepath_or_buffer\u001b[0m\u001b[1;33m,\u001b[0m \u001b[0mkwds\u001b[0m\u001b[1;33m)\u001b[0m\u001b[1;33m\u001b[0m\u001b[1;33m\u001b[0m\u001b[0m\n\u001b[0m\u001b[0;32m    587\u001b[0m \u001b[1;33m\u001b[0m\u001b[0m\n\u001b[0;32m    588\u001b[0m \u001b[1;33m\u001b[0m\u001b[0m\n",
      "\u001b[1;32mc:\\users\\hhc\\appdata\\local\\programs\\python\\python39\\lib\\site-packages\\pandas\\io\\parsers\\readers.py\u001b[0m in \u001b[0;36m_read\u001b[1;34m(filepath_or_buffer, kwds)\u001b[0m\n\u001b[0;32m    480\u001b[0m \u001b[1;33m\u001b[0m\u001b[0m\n\u001b[0;32m    481\u001b[0m     \u001b[1;31m# Create the parser.\u001b[0m\u001b[1;33m\u001b[0m\u001b[1;33m\u001b[0m\u001b[1;33m\u001b[0m\u001b[0m\n\u001b[1;32m--> 482\u001b[1;33m     \u001b[0mparser\u001b[0m \u001b[1;33m=\u001b[0m \u001b[0mTextFileReader\u001b[0m\u001b[1;33m(\u001b[0m\u001b[0mfilepath_or_buffer\u001b[0m\u001b[1;33m,\u001b[0m \u001b[1;33m**\u001b[0m\u001b[0mkwds\u001b[0m\u001b[1;33m)\u001b[0m\u001b[1;33m\u001b[0m\u001b[1;33m\u001b[0m\u001b[0m\n\u001b[0m\u001b[0;32m    483\u001b[0m \u001b[1;33m\u001b[0m\u001b[0m\n\u001b[0;32m    484\u001b[0m     \u001b[1;32mif\u001b[0m \u001b[0mchunksize\u001b[0m \u001b[1;32mor\u001b[0m \u001b[0miterator\u001b[0m\u001b[1;33m:\u001b[0m\u001b[1;33m\u001b[0m\u001b[1;33m\u001b[0m\u001b[0m\n",
      "\u001b[1;32mc:\\users\\hhc\\appdata\\local\\programs\\python\\python39\\lib\\site-packages\\pandas\\io\\parsers\\readers.py\u001b[0m in \u001b[0;36m__init__\u001b[1;34m(self, f, engine, **kwds)\u001b[0m\n\u001b[0;32m    809\u001b[0m             \u001b[0mself\u001b[0m\u001b[1;33m.\u001b[0m\u001b[0moptions\u001b[0m\u001b[1;33m[\u001b[0m\u001b[1;34m\"has_index_names\"\u001b[0m\u001b[1;33m]\u001b[0m \u001b[1;33m=\u001b[0m \u001b[0mkwds\u001b[0m\u001b[1;33m[\u001b[0m\u001b[1;34m\"has_index_names\"\u001b[0m\u001b[1;33m]\u001b[0m\u001b[1;33m\u001b[0m\u001b[1;33m\u001b[0m\u001b[0m\n\u001b[0;32m    810\u001b[0m \u001b[1;33m\u001b[0m\u001b[0m\n\u001b[1;32m--> 811\u001b[1;33m         \u001b[0mself\u001b[0m\u001b[1;33m.\u001b[0m\u001b[0m_engine\u001b[0m \u001b[1;33m=\u001b[0m \u001b[0mself\u001b[0m\u001b[1;33m.\u001b[0m\u001b[0m_make_engine\u001b[0m\u001b[1;33m(\u001b[0m\u001b[0mself\u001b[0m\u001b[1;33m.\u001b[0m\u001b[0mengine\u001b[0m\u001b[1;33m)\u001b[0m\u001b[1;33m\u001b[0m\u001b[1;33m\u001b[0m\u001b[0m\n\u001b[0m\u001b[0;32m    812\u001b[0m \u001b[1;33m\u001b[0m\u001b[0m\n\u001b[0;32m    813\u001b[0m     \u001b[1;32mdef\u001b[0m \u001b[0mclose\u001b[0m\u001b[1;33m(\u001b[0m\u001b[0mself\u001b[0m\u001b[1;33m)\u001b[0m\u001b[1;33m:\u001b[0m\u001b[1;33m\u001b[0m\u001b[1;33m\u001b[0m\u001b[0m\n",
      "\u001b[1;32mc:\\users\\hhc\\appdata\\local\\programs\\python\\python39\\lib\\site-packages\\pandas\\io\\parsers\\readers.py\u001b[0m in \u001b[0;36m_make_engine\u001b[1;34m(self, engine)\u001b[0m\n\u001b[0;32m   1038\u001b[0m             )\n\u001b[0;32m   1039\u001b[0m         \u001b[1;31m# error: Too many arguments for \"ParserBase\"\u001b[0m\u001b[1;33m\u001b[0m\u001b[1;33m\u001b[0m\u001b[1;33m\u001b[0m\u001b[0m\n\u001b[1;32m-> 1040\u001b[1;33m         \u001b[1;32mreturn\u001b[0m \u001b[0mmapping\u001b[0m\u001b[1;33m[\u001b[0m\u001b[0mengine\u001b[0m\u001b[1;33m]\u001b[0m\u001b[1;33m(\u001b[0m\u001b[0mself\u001b[0m\u001b[1;33m.\u001b[0m\u001b[0mf\u001b[0m\u001b[1;33m,\u001b[0m \u001b[1;33m**\u001b[0m\u001b[0mself\u001b[0m\u001b[1;33m.\u001b[0m\u001b[0moptions\u001b[0m\u001b[1;33m)\u001b[0m  \u001b[1;31m# type: ignore[call-arg]\u001b[0m\u001b[1;33m\u001b[0m\u001b[1;33m\u001b[0m\u001b[0m\n\u001b[0m\u001b[0;32m   1041\u001b[0m \u001b[1;33m\u001b[0m\u001b[0m\n\u001b[0;32m   1042\u001b[0m     \u001b[1;32mdef\u001b[0m \u001b[0m_failover_to_python\u001b[0m\u001b[1;33m(\u001b[0m\u001b[0mself\u001b[0m\u001b[1;33m)\u001b[0m\u001b[1;33m:\u001b[0m\u001b[1;33m\u001b[0m\u001b[1;33m\u001b[0m\u001b[0m\n",
      "\u001b[1;32mc:\\users\\hhc\\appdata\\local\\programs\\python\\python39\\lib\\site-packages\\pandas\\io\\parsers\\c_parser_wrapper.py\u001b[0m in \u001b[0;36m__init__\u001b[1;34m(self, src, **kwds)\u001b[0m\n\u001b[0;32m     49\u001b[0m \u001b[1;33m\u001b[0m\u001b[0m\n\u001b[0;32m     50\u001b[0m         \u001b[1;31m# open handles\u001b[0m\u001b[1;33m\u001b[0m\u001b[1;33m\u001b[0m\u001b[1;33m\u001b[0m\u001b[0m\n\u001b[1;32m---> 51\u001b[1;33m         \u001b[0mself\u001b[0m\u001b[1;33m.\u001b[0m\u001b[0m_open_handles\u001b[0m\u001b[1;33m(\u001b[0m\u001b[0msrc\u001b[0m\u001b[1;33m,\u001b[0m \u001b[0mkwds\u001b[0m\u001b[1;33m)\u001b[0m\u001b[1;33m\u001b[0m\u001b[1;33m\u001b[0m\u001b[0m\n\u001b[0m\u001b[0;32m     52\u001b[0m         \u001b[1;32massert\u001b[0m \u001b[0mself\u001b[0m\u001b[1;33m.\u001b[0m\u001b[0mhandles\u001b[0m \u001b[1;32mis\u001b[0m \u001b[1;32mnot\u001b[0m \u001b[1;32mNone\u001b[0m\u001b[1;33m\u001b[0m\u001b[1;33m\u001b[0m\u001b[0m\n\u001b[0;32m     53\u001b[0m \u001b[1;33m\u001b[0m\u001b[0m\n",
      "\u001b[1;32mc:\\users\\hhc\\appdata\\local\\programs\\python\\python39\\lib\\site-packages\\pandas\\io\\parsers\\base_parser.py\u001b[0m in \u001b[0;36m_open_handles\u001b[1;34m(self, src, kwds)\u001b[0m\n\u001b[0;32m    220\u001b[0m         \u001b[0mLet\u001b[0m \u001b[0mthe\u001b[0m \u001b[0mreaders\u001b[0m \u001b[0mopen\u001b[0m \u001b[0mIOHandles\u001b[0m \u001b[0mafter\u001b[0m \u001b[0mthey\u001b[0m \u001b[0mare\u001b[0m \u001b[0mdone\u001b[0m \u001b[1;32mwith\u001b[0m \u001b[0mtheir\u001b[0m \u001b[0mpotential\u001b[0m \u001b[0mraises\u001b[0m\u001b[1;33m.\u001b[0m\u001b[1;33m\u001b[0m\u001b[1;33m\u001b[0m\u001b[0m\n\u001b[0;32m    221\u001b[0m         \"\"\"\n\u001b[1;32m--> 222\u001b[1;33m         self.handles = get_handle(\n\u001b[0m\u001b[0;32m    223\u001b[0m             \u001b[0msrc\u001b[0m\u001b[1;33m,\u001b[0m\u001b[1;33m\u001b[0m\u001b[1;33m\u001b[0m\u001b[0m\n\u001b[0;32m    224\u001b[0m             \u001b[1;34m\"r\"\u001b[0m\u001b[1;33m,\u001b[0m\u001b[1;33m\u001b[0m\u001b[1;33m\u001b[0m\u001b[0m\n",
      "\u001b[1;32mc:\\users\\hhc\\appdata\\local\\programs\\python\\python39\\lib\\site-packages\\pandas\\io\\common.py\u001b[0m in \u001b[0;36mget_handle\u001b[1;34m(path_or_buf, mode, encoding, compression, memory_map, is_text, errors, storage_options)\u001b[0m\n\u001b[0;32m    700\u001b[0m         \u001b[1;32mif\u001b[0m \u001b[0mioargs\u001b[0m\u001b[1;33m.\u001b[0m\u001b[0mencoding\u001b[0m \u001b[1;32mand\u001b[0m \u001b[1;34m\"b\"\u001b[0m \u001b[1;32mnot\u001b[0m \u001b[1;32min\u001b[0m \u001b[0mioargs\u001b[0m\u001b[1;33m.\u001b[0m\u001b[0mmode\u001b[0m\u001b[1;33m:\u001b[0m\u001b[1;33m\u001b[0m\u001b[1;33m\u001b[0m\u001b[0m\n\u001b[0;32m    701\u001b[0m             \u001b[1;31m# Encoding\u001b[0m\u001b[1;33m\u001b[0m\u001b[1;33m\u001b[0m\u001b[1;33m\u001b[0m\u001b[0m\n\u001b[1;32m--> 702\u001b[1;33m             handle = open(\n\u001b[0m\u001b[0;32m    703\u001b[0m                 \u001b[0mhandle\u001b[0m\u001b[1;33m,\u001b[0m\u001b[1;33m\u001b[0m\u001b[1;33m\u001b[0m\u001b[0m\n\u001b[0;32m    704\u001b[0m                 \u001b[0mioargs\u001b[0m\u001b[1;33m.\u001b[0m\u001b[0mmode\u001b[0m\u001b[1;33m,\u001b[0m\u001b[1;33m\u001b[0m\u001b[1;33m\u001b[0m\u001b[0m\n",
      "\u001b[1;31mFileNotFoundError\u001b[0m: [Errno 2] No such file or directory: './US_Accidents.csv'"
     ]
    }
   ],
   "source": [
    "# read the csv file\n",
    "\n",
    "df = pd.read_csv('./US_Accidents.csv')"
   ]
  },
  {
   "cell_type": "code",
   "execution_count": null,
   "id": "6ab22ad8",
   "metadata": {},
   "outputs": [],
   "source": [
    "# lets look at the head of the data\n",
    "\n",
    "df.head()"
   ]
  },
  {
   "cell_type": "code",
   "execution_count": null,
   "id": "f6e25c60",
   "metadata": {},
   "outputs": [],
   "source": [
    "# dataframe columns\n",
    "\n",
    "df.columns"
   ]
  },
  {
   "cell_type": "code",
   "execution_count": null,
   "id": "b4967673",
   "metadata": {},
   "outputs": [],
   "source": [
    "# look at the data types of the columns\n",
    "df.dtypes"
   ]
  },
  {
   "cell_type": "code",
   "execution_count": null,
   "id": "ed6663b0",
   "metadata": {},
   "outputs": [],
   "source": [
    "# detailed info of the dataset\n",
    "\n",
    "df.info()"
   ]
  },
  {
   "cell_type": "code",
   "execution_count": null,
   "id": "215ca285",
   "metadata": {
    "scrolled": true
   },
   "outputs": [],
   "source": [
    "# view the statistics of the data\n",
    "\n",
    "df.describe()"
   ]
  },
  {
   "cell_type": "code",
   "execution_count": null,
   "id": "7f84ccd5",
   "metadata": {},
   "outputs": [],
   "source": [
    "# identify no of numeric columns\n",
    "\n",
    "numerics = ['int16', 'int32', 'int64', 'float16', 'float32', 'float64']\n",
    "newdf = df.select_dtypes(include=numerics)\n",
    "len(newdf.columns)"
   ]
  },
  {
   "cell_type": "markdown",
   "id": "aa4cad82",
   "metadata": {},
   "source": [
    "## Data Cleaning"
   ]
  },
  {
   "cell_type": "code",
   "execution_count": null,
   "id": "96873de9",
   "metadata": {},
   "outputs": [],
   "source": [
    "# count missing values per column/ percentage of missing values\n",
    "\n",
    "missing_percentages = df.isna().sum().sort_values(ascending=False)/len(df)"
   ]
  },
  {
   "cell_type": "code",
   "execution_count": null,
   "id": "9cc6fc23",
   "metadata": {
    "scrolled": true
   },
   "outputs": [],
   "source": [
    "# plot bar chart of missing percentages greater than zeo\n",
    "\n",
    "missing_percentages[missing_percentages>0].plot(kind='bar', color='orange', figsize=(10,5))"
   ]
  },
  {
   "cell_type": "code",
   "execution_count": null,
   "id": "7e77af1f",
   "metadata": {
    "scrolled": true
   },
   "outputs": [],
   "source": [
    "# drop column which has more than 50 percent data is missing\n",
    "\n",
    "df2 = df.drop('Number',1)"
   ]
  },
  {
   "cell_type": "markdown",
   "id": "f3952514",
   "metadata": {},
   "source": [
    "<h1><i>Exploratory Analysis and Visualization</i></h1>"
   ]
  },
  {
   "cell_type": "markdown",
   "id": "d1f030bc",
   "metadata": {},
   "source": [
    "## Analysize these 5 columns\n",
    "\n",
    "### 1. City\n",
    "### 2. Start time\n",
    "### 3. start lat, start lng\n",
    "### 4. Temperature\n",
    "### 5. Weather Condition"
   ]
  },
  {
   "cell_type": "code",
   "execution_count": null,
   "id": "c0bfd2e2",
   "metadata": {},
   "outputs": [],
   "source": [
    "df2.columns"
   ]
  },
  {
   "cell_type": "markdown",
   "id": "997340cb",
   "metadata": {},
   "source": [
    "## City"
   ]
  },
  {
   "cell_type": "code",
   "execution_count": null,
   "id": "b1e06aba",
   "metadata": {},
   "outputs": [],
   "source": [
    "df2[['City', 'Start_Time','Start_Lat','Start_Lng','Temperature(F)','Weather_Condition']]"
   ]
  },
  {
   "cell_type": "code",
   "execution_count": null,
   "id": "25e2f2af",
   "metadata": {},
   "outputs": [],
   "source": [
    "# unique cities\n",
    "\n",
    "df2.City.unique()"
   ]
  },
  {
   "cell_type": "code",
   "execution_count": null,
   "id": "94a36ae1",
   "metadata": {
    "scrolled": true
   },
   "outputs": [],
   "source": [
    "# top 5 cities with most number of accidents\n",
    "\n",
    "df2['City'].value_counts()[:5]"
   ]
  },
  {
   "cell_type": "code",
   "execution_count": null,
   "id": "eec28903",
   "metadata": {},
   "outputs": [],
   "source": [
    "df2[['City','Description']][df2.City == 'New York']"
   ]
  },
  {
   "cell_type": "code",
   "execution_count": null,
   "id": "e5eb4ded",
   "metadata": {},
   "outputs": [],
   "source": [
    "# bar chart of 10 ten cities which has recorded most no of accidents\n",
    "\n",
    "df2['City'].value_counts()[:10].plot(kind='bar',color='g')"
   ]
  },
  {
   "cell_type": "code",
   "execution_count": null,
   "id": "bf07526e",
   "metadata": {},
   "outputs": [],
   "source": [
    "# distribution of accidents recordred in cities in seaborn distribution plot\n",
    "\n",
    "sns.distplot(df2.City.value_counts()"
   ]
  },
  {
   "cell_type": "code",
   "execution_count": null,
   "id": "7e9abe56",
   "metadata": {},
   "outputs": [],
   "source": [
    "cities_by_accident = df2.City.value_counts()"
   ]
  },
  {
   "cell_type": "code",
   "execution_count": null,
   "id": "7573e16a",
   "metadata": {},
   "outputs": [],
   "source": [
    "cities_by_accident"
   ]
  },
  {
   "cell_type": "code",
   "execution_count": null,
   "id": "cf095a6e",
   "metadata": {},
   "outputs": [],
   "source": [
    "# separate cities by accident to Highest Accident Cities and Lower Accident Cities\n",
    "\n",
    "highest_accident_cities = df2.City.value_counts()[df2.City.value_counts()>1000]\n",
    "Lower_accident_cities = df2.City.value_counts()[df2.City.value_counts()< 1000]"
   ]
  },
  {
   "cell_type": "code",
   "execution_count": null,
   "id": "2172d94c",
   "metadata": {
    "scrolled": true
   },
   "outputs": [],
   "source": [
    "len(Lower_accident_cities)/len(df2.City.value_counts())"
   ]
  },
  {
   "cell_type": "code",
   "execution_count": null,
   "id": "fe0c0b98",
   "metadata": {},
   "outputs": [],
   "source": [
    "len(highest_accident_cities)/len(df2.City.value_counts())"
   ]
  },
  {
   "cell_type": "code",
   "execution_count": null,
   "id": "cb46fd30",
   "metadata": {},
   "outputs": [],
   "source": [
    "# distribution of countries with less than 1000 accidents recorded\n",
    "sns.distplot(Lower_accident_cities)"
   ]
  },
  {
   "cell_type": "code",
   "execution_count": null,
   "id": "d13a2ec6",
   "metadata": {},
   "outputs": [],
   "source": [
    "sns.histplot(highest_accident_cities, log_scale=True)"
   ]
  },
  {
   "cell_type": "code",
   "execution_count": null,
   "id": "ecfb7aa6",
   "metadata": {},
   "outputs": [],
   "source": [
    "# countries which recorded which only recorded 1 accident\n",
    "\n",
    "df2.City.value_counts()[df2.City.value_counts()==1]"
   ]
  },
  {
   "cell_type": "markdown",
   "id": "60e17c95",
   "metadata": {},
   "source": [
    "<i><b>there is something wrong with this, about 1110 cities recorded just 1 accident, How ? </a></i>"
   ]
  },
  {
   "cell_type": "markdown",
   "id": "1df56740",
   "metadata": {},
   "source": [
    "## Summary & Insights\n",
    "#### 1. there are 1110 cities which have recorded just 1 accident.?\n",
    "#### 2. only 5 % countries which have recorded more than 1000 accidents,"
   ]
  },
  {
   "cell_type": "markdown",
   "id": "fc71e8ee",
   "metadata": {},
   "source": [
    "### Start Time"
   ]
  },
  {
   "cell_type": "code",
   "execution_count": null,
   "id": "e43ab668",
   "metadata": {},
   "outputs": [],
   "source": [
    "df2.Start_Time = pd.to_datetime(df2.Start_Time)"
   ]
  },
  {
   "cell_type": "markdown",
   "id": "5eab2bdd",
   "metadata": {},
   "source": [
    "#### histogram of accidents recorded by every hour"
   ]
  },
  {
   "cell_type": "code",
   "execution_count": null,
   "id": "9d5c25a0",
   "metadata": {},
   "outputs": [],
   "source": [
    "sns.histplot(df.Start_Time.dt.hour, bins=24)"
   ]
  },
  {
   "cell_type": "markdown",
   "id": "21c87d5d",
   "metadata": {},
   "source": [
    "##### we can see most accidents happened during 6AM-9AM in the morning (people travelling for office) \n",
    "##### and 15-17 i.e 3PM-7PM in the evening (returning from office)"
   ]
  },
  {
   "cell_type": "markdown",
   "id": "b5136e3c",
   "metadata": {},
   "source": [
    "### Histogram of accidents recorded day-wise (0-monday, 6-Sunday)"
   ]
  },
  {
   "cell_type": "code",
   "execution_count": null,
   "id": "b678a397",
   "metadata": {},
   "outputs": [],
   "source": [
    "sns.histplot(df2['Start_Time'].dt.dayofweek, bins=7, color='b')"
   ]
  },
  {
   "cell_type": "markdown",
   "id": "6eff39d3",
   "metadata": {},
   "source": [
    "<h5> We can clearly see that most accidents happend on monday to friday <b>(due to working days)</b> <br> \n",
    "and least no of accidents happend on sat-sun <b> (official holidays) </b>. </h5>\n"
   ]
  },
  {
   "cell_type": "markdown",
   "id": "15fdfee3",
   "metadata": {},
   "source": [
    "### is distribution of accidents by hour is same on weekends campared to working day?"
   ]
  },
  {
   "cell_type": "code",
   "execution_count": null,
   "id": "28340edd",
   "metadata": {},
   "outputs": [],
   "source": [
    "# accidents happened by hour on sunday\n",
    "\n",
    "accidents_on_sunday = df2.Start_Time.dt.hour[df2.Start_Time.dt.dayofweek == 6]"
   ]
  },
  {
   "cell_type": "code",
   "execution_count": null,
   "id": "d4657565",
   "metadata": {},
   "outputs": [],
   "source": [
    "sns.histplot(accidents_on_sunday)"
   ]
  },
  {
   "cell_type": "code",
   "execution_count": null,
   "id": "0a0176f5",
   "metadata": {},
   "outputs": [],
   "source": [
    "# accidents happened by hour on monday\n",
    "\n",
    "accidents_on_monday = df2.Start_Time.dt.hour[df2.Start_Time.dt.dayofweek == 0]"
   ]
  },
  {
   "cell_type": "code",
   "execution_count": null,
   "id": "fc74627f",
   "metadata": {
    "scrolled": true
   },
   "outputs": [],
   "source": [
    "sns.histplot(accidents_on_monday, kde=True)"
   ]
  },
  {
   "cell_type": "code",
   "execution_count": null,
   "id": "7a27fda4",
   "metadata": {},
   "outputs": [],
   "source": [
    "# accidents happened by months\n",
    "current_palette = sns.color_palette()\n",
    "sns.histplot(df2['Start_Time'].dt.month, bins=12, color='red')"
   ]
  },
  {
   "cell_type": "markdown",
   "id": "9cc34e26",
   "metadata": {},
   "source": [
    "## Summary & Insights"
   ]
  },
  {
   "cell_type": "markdown",
   "id": "79cc6609",
   "metadata": {},
   "source": [
    "#### less accidents happened on weekends as compared to working days\n",
    "#### weekends distribution of accidents by hour is different from working days, its more like a normal distrubtion i.e. bell curve"
   ]
  },
  {
   "cell_type": "markdown",
   "id": "47488856",
   "metadata": {},
   "source": [
    "### Weather Condition"
   ]
  },
  {
   "cell_type": "code",
   "execution_count": null,
   "id": "95c45dec",
   "metadata": {},
   "outputs": [],
   "source": [
    "# different weather conditions \n",
    "\n",
    "len(df2.Weather_Condition.unique())"
   ]
  },
  {
   "cell_type": "code",
   "execution_count": null,
   "id": "18b5db84",
   "metadata": {},
   "outputs": [],
   "source": [
    "# total accidents happened in different weather conditions\n",
    "\n",
    "df2.Weather_Condition.value_counts()[:20]"
   ]
  },
  {
   "cell_type": "code",
   "execution_count": null,
   "id": "e8bf3ccb",
   "metadata": {},
   "outputs": [],
   "source": [
    "sns.distplot(df2.Weather_Condition.value_counts())"
   ]
  },
  {
   "cell_type": "markdown",
   "id": "b906b75d",
   "metadata": {},
   "source": [
    "### Temperature"
   ]
  },
  {
   "cell_type": "code",
   "execution_count": null,
   "id": "d91bd5d4",
   "metadata": {
    "scrolled": true
   },
   "outputs": [],
   "source": [
    "df2['Temperature(F)']"
   ]
  },
  {
   "cell_type": "code",
   "execution_count": null,
   "id": "70e81672",
   "metadata": {
    "scrolled": true
   },
   "outputs": [],
   "source": [
    "df2['Temperature(F)'].describe().apply(lambda x: format(x, 'f'))\n"
   ]
  },
  {
   "cell_type": "code",
   "execution_count": null,
   "id": "13e8899f",
   "metadata": {},
   "outputs": [],
   "source": [
    "# error because Temperature column contain NaN values let's check"
   ]
  },
  {
   "cell_type": "code",
   "execution_count": null,
   "id": "6b81896d",
   "metadata": {},
   "outputs": [],
   "source": [
    "df2['Temperature(F)'].isna().sum()"
   ]
  },
  {
   "cell_type": "code",
   "execution_count": null,
   "id": "ae64139c",
   "metadata": {},
   "outputs": [],
   "source": [
    "# fill the Nan values with 0\n",
    "df2['Temperature(F)']= df2['Temperature(F)'].fillna(0)"
   ]
  },
  {
   "cell_type": "code",
   "execution_count": null,
   "id": "aeffdf79",
   "metadata": {},
   "outputs": [],
   "source": [
    "# parse float to int\n",
    "\n",
    "df2['Temperature(F)']= df2['Temperature(F)'].astype('int64')"
   ]
  },
  {
   "cell_type": "markdown",
   "id": "e18d6538",
   "metadata": {},
   "source": [
    "### Note\n",
    "\n",
    "#### so the maximum Temperature ever recorded in fahrenheit is 134 F and lowest temperature ever recorded is -128.6 F\n",
    "#### lets check how many temperature counts are greater than 134 F"
   ]
  },
  {
   "cell_type": "code",
   "execution_count": null,
   "id": "9e717413",
   "metadata": {
    "scrolled": true
   },
   "outputs": [],
   "source": [
    "df2['Temperature(F)'][df2['Temperature(F)'] < 134].count()"
   ]
  },
  {
   "cell_type": "code",
   "execution_count": null,
   "id": "22a5608c",
   "metadata": {},
   "outputs": [],
   "source": [
    "# there are just 8 entries which are greater than 134. so can drop those rows"
   ]
  },
  {
   "cell_type": "code",
   "execution_count": null,
   "id": "fba825df",
   "metadata": {
    "scrolled": true
   },
   "outputs": [],
   "source": [
    "df2 = df2[df2['Temperature(F)'] < 135]"
   ]
  },
  {
   "cell_type": "code",
   "execution_count": null,
   "id": "545a8bb4",
   "metadata": {
    "scrolled": true
   },
   "outputs": [],
   "source": [
    "# wrong temperatures i.e. greater than 134 has been removed\n",
    "\n",
    "df2['Temperature(F)'].sort_values()"
   ]
  },
  {
   "cell_type": "code",
   "execution_count": null,
   "id": "f54c2d57",
   "metadata": {},
   "outputs": [],
   "source": [
    "# lets draw histrogram to see the disribution\n",
    "\n",
    "sns.histplot(df2['Temperature(F)'], kde=True)"
   ]
  },
  {
   "cell_type": "markdown",
   "id": "98df5065",
   "metadata": {},
   "source": [
    "##### it looks like a normal distribution"
   ]
  },
  {
   "cell_type": "markdown",
   "id": "6b0fdc6b",
   "metadata": {},
   "source": [
    "### Start Latitude & Start Longitute"
   ]
  },
  {
   "cell_type": "code",
   "execution_count": null,
   "id": "5b927a42",
   "metadata": {},
   "outputs": [],
   "source": [
    "df2['Start_Lng']"
   ]
  },
  {
   "cell_type": "code",
   "execution_count": null,
   "id": "014766d7",
   "metadata": {},
   "outputs": [],
   "source": [
    "# lets view some stats of these columns\n",
    "\n",
    "#df2[['Start_Lng', 'Start_Lat']].describe()\n",
    "df2[['Start_Lng', 'Start_Lat']].describe().apply(lambda s: s.apply('{0:.5f}'.format))"
   ]
  },
  {
   "cell_type": "code",
   "execution_count": null,
   "id": "200a5e2f",
   "metadata": {},
   "outputs": [],
   "source": [
    "# histogram of start_lat, start_lng\n",
    "\n",
    "sns.histplot(df2[['Start_Lng', 'Start_Lat']])"
   ]
  },
  {
   "cell_type": "code",
   "execution_count": null,
   "id": "0879281a",
   "metadata": {},
   "outputs": [],
   "source": [
    "sns.scatterplot(y=df2.Start_Lat, x=df2.Start_Lng)"
   ]
  },
  {
   "cell_type": "code",
   "execution_count": null,
   "id": "8c49c28c",
   "metadata": {},
   "outputs": [],
   "source": [
    "import folium\n",
    "map = folium.Map()\n",
    "map"
   ]
  },
  {
   "cell_type": "code",
   "execution_count": null,
   "id": "cc3b3599",
   "metadata": {},
   "outputs": [],
   "source": [
    "# put a piont on a map\n",
    "\n",
    "df2[['Start_Lng', 'Start_Lat']].iloc[1]"
   ]
  },
  {
   "cell_type": "code",
   "execution_count": null,
   "id": "909bd788",
   "metadata": {},
   "outputs": [],
   "source": [
    "location = folium.Map(location=[39.86542,-84.06280], zoom_start=18, control_scale=True, tiles='Stamen Water Color')"
   ]
  },
  {
   "cell_type": "markdown",
   "id": "243332ec",
   "metadata": {},
   "source": [
    "### HeatMap"
   ]
  },
  {
   "cell_type": "code",
   "execution_count": null,
   "id": "a8442cfc",
   "metadata": {},
   "outputs": [],
   "source": [
    "from folium import plugins\n",
    "from folium.plugins import HeatMap"
   ]
  },
  {
   "cell_type": "code",
   "execution_count": null,
   "id": "a372cd05",
   "metadata": {},
   "outputs": [],
   "source": [
    "# 01 % random sample of dataframe\n",
    "\n",
    "df_sample2 = df2.sample(int(0.001*len(df2)))"
   ]
  },
  {
   "cell_type": "code",
   "execution_count": null,
   "id": "0f82ba3a",
   "metadata": {},
   "outputs": [],
   "source": [
    "HeatMap(list(zip(df_sample2.Start_Lat,df_sample2.Start_Lng)), ).add_to(map)\n",
    "map"
   ]
  },
  {
   "cell_type": "code",
   "execution_count": null,
   "id": "55117fcb",
   "metadata": {},
   "outputs": [],
   "source": [
    "list(zip(df2.Start_Lat.iloc[:20], df2.Start_Lng.iloc[:20]))"
   ]
  },
  {
   "cell_type": "code",
   "execution_count": null,
   "id": "1247b6b2",
   "metadata": {},
   "outputs": [],
   "source": []
  },
  {
   "cell_type": "markdown",
   "id": "96a1cc0d",
   "metadata": {},
   "source": [
    "<h1>Ask & Answer Questions</h1>"
   ]
  },
  {
   "cell_type": "markdown",
   "id": "4ef6a9f9",
   "metadata": {},
   "source": [
    "### Are there more accidents in warmer or in cold areas?"
   ]
  },
  {
   "cell_type": "markdown",
   "id": "d6a800e2",
   "metadata": {},
   "source": [
    "### Which State has highest no of accidents?"
   ]
  },
  {
   "cell_type": "code",
   "execution_count": null,
   "id": "34bee078",
   "metadata": {},
   "outputs": [],
   "source": [
    "df2.City.value_counts()"
   ]
  },
  {
   "cell_type": "code",
   "execution_count": null,
   "id": "c7951a6e",
   "metadata": {},
   "outputs": [],
   "source": [
    "# Miami has recorded most no of accidents"
   ]
  },
  {
   "cell_type": "markdown",
   "id": "b0a6a966",
   "metadata": {},
   "source": [
    "### What time of day accidents are more frequent in?"
   ]
  },
  {
   "cell_type": "code",
   "execution_count": null,
   "id": "87e158e4",
   "metadata": {},
   "outputs": [],
   "source": [
    "accident_hours = df.Start_Time.dt.hour.value_counts()\n",
    "accident_hours"
   ]
  },
  {
   "cell_type": "markdown",
   "id": "18a4e5c4",
   "metadata": {},
   "source": [
    "#### 5PM is the time of the day when most of the accidents happened."
   ]
  },
  {
   "cell_type": "code",
   "execution_count": null,
   "id": "a898da4b",
   "metadata": {},
   "outputs": [],
   "source": [
    "# 17 i.e. 5 PM is the time when most of the accidents heppened, also verified by this histogram\n",
    "\n",
    "sns.histplot(df.Start_Time.dt.hour, bins=24)"
   ]
  },
  {
   "cell_type": "markdown",
   "id": "ddd1eab2",
   "metadata": {},
   "source": [
    "### which days of week has most accidents?"
   ]
  },
  {
   "cell_type": "code",
   "execution_count": null,
   "id": "cd789842",
   "metadata": {},
   "outputs": [],
   "source": [
    "accident_by_day = df2['Start_Time'].dt.dayofweek.value_counts()\n",
    "accident_by_day"
   ]
  },
  {
   "cell_type": "markdown",
   "id": "b8c0aa3b",
   "metadata": {},
   "source": [
    "##### 4 i.e. Friday is the day when most number of accidents happened \n",
    "##### 6 i.e. sunday is the day least no of acidents happened (may be because of the holiday)"
   ]
  },
  {
   "cell_type": "code",
   "execution_count": null,
   "id": "54fd1a2a",
   "metadata": {},
   "outputs": [],
   "source": []
  }
 ],
 "metadata": {
  "kernelspec": {
   "display_name": "Python 3 (ipykernel)",
   "language": "python",
   "name": "python3"
  },
  "language_info": {
   "codemirror_mode": {
    "name": "ipython",
    "version": 3
   },
   "file_extension": ".py",
   "mimetype": "text/x-python",
   "name": "python",
   "nbconvert_exporter": "python",
   "pygments_lexer": "ipython3",
   "version": "3.9.6"
  }
 },
 "nbformat": 4,
 "nbformat_minor": 5
}
